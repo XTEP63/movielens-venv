{
 "cells": [
  {
   "cell_type": "code",
   "execution_count": 1,
   "id": "aa04c7f9",
   "metadata": {},
   "outputs": [],
   "source": [
    "import pandas as pd"
   ]
  },
  {
   "cell_type": "markdown",
   "id": "edbeebbf",
   "metadata": {},
   "source": [
    "### EDA"
   ]
  },
  {
   "cell_type": "code",
   "execution_count": 3,
   "id": "952cc7ba",
   "metadata": {},
   "outputs": [],
   "source": [
    "links = pd.read_csv(r'data\\links.csv')\n",
    "movies = pd.read_csv(r'data\\movies.csv')\n",
    "ratings = pd.read_csv(r'data\\ratings.csv')\n",
    "tags = pd.read_csv(r'data\\tags.csv')"
   ]
  },
  {
   "cell_type": "code",
   "execution_count": null,
   "id": "a94bcd2f",
   "metadata": {},
   "outputs": [],
   "source": [
    "unified = links.merge(\n",
    "        movies\n",
    "        , on='movieId', how='left').merge(\n",
    "        ratings, on='movieId', how='left'\n",
    "                ).merge(\n",
    "                    \n",
    "                )"
   ]
  }
 ],
 "metadata": {
  "kernelspec": {
   "display_name": "venv",
   "language": "python",
   "name": "python3"
  },
  "language_info": {
   "codemirror_mode": {
    "name": "ipython",
    "version": 3
   },
   "file_extension": ".py",
   "mimetype": "text/x-python",
   "name": "python",
   "nbconvert_exporter": "python",
   "pygments_lexer": "ipython3",
   "version": "3.11.9"
  }
 },
 "nbformat": 4,
 "nbformat_minor": 5
}
